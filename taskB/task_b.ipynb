{
 "cells": [
  {
   "cell_type": "markdown",
   "metadata": {},
   "source": [
    "# Task B"
   ]
  },
  {
   "cell_type": "code",
   "execution_count": 2,
   "metadata": {},
   "outputs": [
    {
     "name": "stdout",
     "output_type": "stream",
     "text": [
      "Requirement already satisfied: spaghetti in /home/john_kelly_tamargo/miniconda3/envs/nda/lib/python3.12/site-packages (1.7.5.post1)\n",
      "Requirement already satisfied: osmnx in /home/john_kelly_tamargo/miniconda3/envs/nda/lib/python3.12/site-packages (1.9.1)\n",
      "Requirement already satisfied: pyproj in /home/john_kelly_tamargo/miniconda3/envs/nda/lib/python3.12/site-packages (3.6.1)\n",
      "Requirement already satisfied: esda>=2.1 in /home/john_kelly_tamargo/miniconda3/envs/nda/lib/python3.12/site-packages (from spaghetti) (2.5.1)\n",
      "Requirement already satisfied: libpysal>=4.6 in /home/john_kelly_tamargo/miniconda3/envs/nda/lib/python3.12/site-packages (from spaghetti) (4.10)\n",
      "Requirement already satisfied: numpy>=1.22 in /home/john_kelly_tamargo/miniconda3/envs/nda/lib/python3.12/site-packages (from spaghetti) (1.26.3)\n",
      "Requirement already satisfied: pandas!=1.5.0,>=1.4 in /home/john_kelly_tamargo/miniconda3/envs/nda/lib/python3.12/site-packages (from spaghetti) (2.2.0)\n",
      "Requirement already satisfied: rtree>=1.0 in /home/john_kelly_tamargo/miniconda3/envs/nda/lib/python3.12/site-packages (from spaghetti) (1.2.0)\n",
      "Requirement already satisfied: scipy>=1.8 in /home/john_kelly_tamargo/miniconda3/envs/nda/lib/python3.12/site-packages (from spaghetti) (1.12.0)\n",
      "Requirement already satisfied: geopandas>=0.12 in /home/john_kelly_tamargo/miniconda3/envs/nda/lib/python3.12/site-packages (from osmnx) (0.14.3)\n",
      "Requirement already satisfied: networkx>=2.5 in /home/john_kelly_tamargo/miniconda3/envs/nda/lib/python3.12/site-packages (from osmnx) (3.2.1)\n",
      "Requirement already satisfied: requests>=2.27 in /home/john_kelly_tamargo/miniconda3/envs/nda/lib/python3.12/site-packages (from osmnx) (2.31.0)\n",
      "Requirement already satisfied: shapely>=2.0 in /home/john_kelly_tamargo/miniconda3/envs/nda/lib/python3.12/site-packages (from osmnx) (2.0.2)\n",
      "Requirement already satisfied: certifi in /home/john_kelly_tamargo/miniconda3/envs/nda/lib/python3.12/site-packages (from pyproj) (2024.2.2)\n",
      "Requirement already satisfied: scikit-learn>=1.0 in /home/john_kelly_tamargo/miniconda3/envs/nda/lib/python3.12/site-packages (from esda>=2.1->spaghetti) (1.4.0)\n",
      "Requirement already satisfied: fiona>=1.8.21 in /home/john_kelly_tamargo/miniconda3/envs/nda/lib/python3.12/site-packages (from geopandas>=0.12->osmnx) (1.9.5)\n",
      "Requirement already satisfied: packaging in /home/john_kelly_tamargo/miniconda3/envs/nda/lib/python3.12/site-packages (from geopandas>=0.12->osmnx) (23.2)\n",
      "Requirement already satisfied: beautifulsoup4>=4.10 in /home/john_kelly_tamargo/miniconda3/envs/nda/lib/python3.12/site-packages (from libpysal>=4.6->spaghetti) (4.12.3)\n",
      "Requirement already satisfied: platformdirs>=2.0.2 in /home/john_kelly_tamargo/miniconda3/envs/nda/lib/python3.12/site-packages (from libpysal>=4.6->spaghetti) (4.2.0)\n",
      "Requirement already satisfied: python-dateutil>=2.8.2 in /home/john_kelly_tamargo/miniconda3/envs/nda/lib/python3.12/site-packages (from pandas!=1.5.0,>=1.4->spaghetti) (2.8.2)\n",
      "Requirement already satisfied: pytz>=2020.1 in /home/john_kelly_tamargo/miniconda3/envs/nda/lib/python3.12/site-packages (from pandas!=1.5.0,>=1.4->spaghetti) (2023.4)\n",
      "Requirement already satisfied: tzdata>=2022.7 in /home/john_kelly_tamargo/miniconda3/envs/nda/lib/python3.12/site-packages (from pandas!=1.5.0,>=1.4->spaghetti) (2023.4)\n",
      "Requirement already satisfied: charset-normalizer<4,>=2 in /home/john_kelly_tamargo/miniconda3/envs/nda/lib/python3.12/site-packages (from requests>=2.27->osmnx) (3.3.2)\n",
      "Requirement already satisfied: idna<4,>=2.5 in /home/john_kelly_tamargo/miniconda3/envs/nda/lib/python3.12/site-packages (from requests>=2.27->osmnx) (3.6)\n",
      "Requirement already satisfied: urllib3<3,>=1.21.1 in /home/john_kelly_tamargo/miniconda3/envs/nda/lib/python3.12/site-packages (from requests>=2.27->osmnx) (2.2.0)\n",
      "Requirement already satisfied: soupsieve>1.2 in /home/john_kelly_tamargo/miniconda3/envs/nda/lib/python3.12/site-packages (from beautifulsoup4>=4.10->libpysal>=4.6->spaghetti) (2.5)\n",
      "Requirement already satisfied: attrs>=19.2.0 in /home/john_kelly_tamargo/miniconda3/envs/nda/lib/python3.12/site-packages (from fiona>=1.8.21->geopandas>=0.12->osmnx) (23.2.0)\n",
      "Requirement already satisfied: click~=8.0 in /home/john_kelly_tamargo/miniconda3/envs/nda/lib/python3.12/site-packages (from fiona>=1.8.21->geopandas>=0.12->osmnx) (8.1.7)\n",
      "Requirement already satisfied: click-plugins>=1.0 in /home/john_kelly_tamargo/miniconda3/envs/nda/lib/python3.12/site-packages (from fiona>=1.8.21->geopandas>=0.12->osmnx) (1.1.1)\n",
      "Requirement already satisfied: cligj>=0.5 in /home/john_kelly_tamargo/miniconda3/envs/nda/lib/python3.12/site-packages (from fiona>=1.8.21->geopandas>=0.12->osmnx) (0.7.2)\n",
      "Requirement already satisfied: six in /home/john_kelly_tamargo/miniconda3/envs/nda/lib/python3.12/site-packages (from fiona>=1.8.21->geopandas>=0.12->osmnx) (1.16.0)\n",
      "Requirement already satisfied: setuptools in /home/john_kelly_tamargo/miniconda3/envs/nda/lib/python3.12/site-packages (from fiona>=1.8.21->geopandas>=0.12->osmnx) (69.0.3)\n",
      "Requirement already satisfied: joblib>=1.2.0 in /home/john_kelly_tamargo/miniconda3/envs/nda/lib/python3.12/site-packages (from scikit-learn>=1.0->esda>=2.1->spaghetti) (1.3.2)\n",
      "Requirement already satisfied: threadpoolctl>=2.0.0 in /home/john_kelly_tamargo/miniconda3/envs/nda/lib/python3.12/site-packages (from scikit-learn>=1.0->esda>=2.1->spaghetti) (3.2.0)\n"
     ]
    }
   ],
   "source": [
    "!pip install spaghetti osmnx pyproj"
   ]
  },
  {
   "cell_type": "code",
   "execution_count": 3,
   "metadata": {},
   "outputs": [
    {
     "name": "stderr",
     "output_type": "stream",
     "text": [
      "/home/john_kelly_tamargo/miniconda3/envs/nda/lib/python3.12/site-packages/spaghetti/network.py:42: FutureWarning: The next major release of pysal/spaghetti (2.0.0) will drop support for all ``libpysal.cg`` geometries. This change is a first step in refactoring ``spaghetti`` that is expected to result in dramatically reduced runtimes for network instantiation and operations. Users currently requiring network and point pattern input as ``libpysal.cg`` geometries should prepare for this simply by converting to ``shapely`` geometries.\n",
      "  warnings.warn(dep_msg, FutureWarning, stacklevel=1)\n",
      "/home/john_kelly_tamargo/miniconda3/envs/nda/lib/python3.12/site-packages/pyproj/crs/crs.py:141: FutureWarning: '+init=<authority>:<code>' syntax is deprecated. '<authority>:<code>' is the preferred initialization method. When making the change, be mindful of axis order changes: https://pyproj4.github.io/pyproj/stable/gotchas.html#axis-order-changes-in-proj-6\n",
      "  in_crs_string = _prepare_from_proj_string(in_crs_string)\n"
     ]
    }
   ],
   "source": [
    "import osmnx as ox\n",
    "import spaghetti\n",
    "from shapely.geometry import Point, LineString\n",
    "import geopandas as gpd\n",
    "import pandas as pd\n",
    "import networkx as nx\n",
    "import os\n",
    "import glob\n",
    "import matplotlib.pyplot as plt\n",
    "from pyproj import Transformer\n",
    "from helpers.location_converter import ENtoLL84"
   ]
  },
  {
   "cell_type": "code",
   "execution_count": 5,
   "metadata": {},
   "outputs": [],
   "source": [
    "\n",
    "df2014 = pd.read_csv('../data/clean_2014.csv')\n",
    "df2015 = pd.read_csv('../data/clean_2015.csv')\n",
    "df2016 = pd.read_csv('../data/clean_2016.csv')\n",
    "df2017 = pd.read_csv('../data/clean_2017.csv')\n",
    "df2018 = pd.read_csv('../data/clean_2018.csv')\n",
    "df2019 = pd.read_csv('../data/clean_2019.csv')\n",
    "\n",
    "all_datasets = [df2014, df2015, df2016, df2017, df2018, df2019]"
   ]
  },
  {
   "cell_type": "markdown",
   "metadata": {},
   "source": [
    "## Task B.1\n",
    "\n",
    "Plot the distribution of road accidents on your road network and visualise this. Aggregate across multiple years of accident data."
   ]
  },
  {
   "cell_type": "code",
   "execution_count": null,
   "metadata": {},
   "outputs": [],
   "source": [
    "def do_for_all_datasets(function:function):\n",
    "    return [function(dataset) for dataset in all_datasets]"
   ]
  },
  {
   "cell_type": "code",
   "execution_count": 7,
   "metadata": {},
   "outputs": [
    {
     "data": {
      "text/html": [
       "<div>\n",
       "<style scoped>\n",
       "    .dataframe tbody tr th:only-of-type {\n",
       "        vertical-align: middle;\n",
       "    }\n",
       "\n",
       "    .dataframe tbody tr th {\n",
       "        vertical-align: top;\n",
       "    }\n",
       "\n",
       "    .dataframe thead th {\n",
       "        text-align: right;\n",
       "    }\n",
       "</style>\n",
       "<table border=\"1\" class=\"dataframe\">\n",
       "  <thead>\n",
       "    <tr style=\"text-align: right;\">\n",
       "      <th></th>\n",
       "      <th>Reference Number</th>\n",
       "      <th>Grid Ref: Easting</th>\n",
       "      <th>Grid Ref: Northing</th>\n",
       "      <th>Accident Date</th>\n",
       "      <th>Time (24hr)</th>\n",
       "      <th>Casualties</th>\n",
       "    </tr>\n",
       "  </thead>\n",
       "  <tbody>\n",
       "    <tr>\n",
       "      <th>0</th>\n",
       "      <td>1.50E+165</td>\n",
       "      <td>429859</td>\n",
       "      <td>428347</td>\n",
       "      <td>14-May-14</td>\n",
       "      <td>650</td>\n",
       "      <td>1</td>\n",
       "    </tr>\n",
       "    <tr>\n",
       "      <th>1</th>\n",
       "      <td>1.50E+252</td>\n",
       "      <td>424018</td>\n",
       "      <td>438467</td>\n",
       "      <td>14-May-14</td>\n",
       "      <td>823</td>\n",
       "      <td>1</td>\n",
       "    </tr>\n",
       "    <tr>\n",
       "      <th>2</th>\n",
       "      <td>1.50E+271</td>\n",
       "      <td>432631</td>\n",
       "      <td>434927</td>\n",
       "      <td>14-May-14</td>\n",
       "      <td>840</td>\n",
       "      <td>1</td>\n",
       "    </tr>\n",
       "    <tr>\n",
       "      <th>3</th>\n",
       "      <td>1.60E+184</td>\n",
       "      <td>434298</td>\n",
       "      <td>442312</td>\n",
       "      <td>14-Jun-14</td>\n",
       "      <td>205</td>\n",
       "      <td>1</td>\n",
       "    </tr>\n",
       "    <tr>\n",
       "      <th>4</th>\n",
       "      <td>1.60E+242</td>\n",
       "      <td>427979</td>\n",
       "      <td>436047</td>\n",
       "      <td>23-May-14</td>\n",
       "      <td>2230</td>\n",
       "      <td>1</td>\n",
       "    </tr>\n",
       "    <tr>\n",
       "      <th>...</th>\n",
       "      <td>...</td>\n",
       "      <td>...</td>\n",
       "      <td>...</td>\n",
       "      <td>...</td>\n",
       "      <td>...</td>\n",
       "      <td>...</td>\n",
       "    </tr>\n",
       "    <tr>\n",
       "      <th>1445</th>\n",
       "      <td>6CT0238</td>\n",
       "      <td>430040</td>\n",
       "      <td>434040</td>\n",
       "      <td>29/12/2019</td>\n",
       "      <td>220</td>\n",
       "      <td>1</td>\n",
       "    </tr>\n",
       "    <tr>\n",
       "      <th>1446</th>\n",
       "      <td>6CU0181</td>\n",
       "      <td>442094</td>\n",
       "      <td>434619</td>\n",
       "      <td>30/12/2019</td>\n",
       "      <td>422</td>\n",
       "      <td>1</td>\n",
       "    </tr>\n",
       "    <tr>\n",
       "      <th>1447</th>\n",
       "      <td>6CU0363</td>\n",
       "      <td>423019</td>\n",
       "      <td>437653</td>\n",
       "      <td>30/12/2019</td>\n",
       "      <td>1000</td>\n",
       "      <td>1</td>\n",
       "    </tr>\n",
       "    <tr>\n",
       "      <th>1448</th>\n",
       "      <td>6CV0723</td>\n",
       "      <td>436853</td>\n",
       "      <td>442515</td>\n",
       "      <td>31/12/2019</td>\n",
       "      <td>1340</td>\n",
       "      <td>1</td>\n",
       "    </tr>\n",
       "    <tr>\n",
       "      <th>1449</th>\n",
       "      <td>6CV1518</td>\n",
       "      <td>421466</td>\n",
       "      <td>433999</td>\n",
       "      <td>31/12/2019</td>\n",
       "      <td>1640</td>\n",
       "      <td>2</td>\n",
       "    </tr>\n",
       "  </tbody>\n",
       "</table>\n",
       "<p>10550 rows × 6 columns</p>\n",
       "</div>"
      ],
      "text/plain": [
       "     Reference Number  Grid Ref: Easting  Grid Ref: Northing Accident Date  \\\n",
       "0           1.50E+165             429859              428347     14-May-14   \n",
       "1           1.50E+252             424018              438467     14-May-14   \n",
       "2           1.50E+271             432631              434927     14-May-14   \n",
       "3           1.60E+184             434298              442312     14-Jun-14   \n",
       "4           1.60E+242             427979              436047     23-May-14   \n",
       "...               ...                ...                 ...           ...   \n",
       "1445          6CT0238             430040              434040    29/12/2019   \n",
       "1446          6CU0181             442094              434619    30/12/2019   \n",
       "1447          6CU0363             423019              437653    30/12/2019   \n",
       "1448          6CV0723             436853              442515    31/12/2019   \n",
       "1449          6CV1518             421466              433999    31/12/2019   \n",
       "\n",
       "      Time (24hr)  Casualties  \n",
       "0             650           1  \n",
       "1             823           1  \n",
       "2             840           1  \n",
       "3             205           1  \n",
       "4            2230           1  \n",
       "...           ...         ...  \n",
       "1445          220           1  \n",
       "1446          422           1  \n",
       "1447         1000           1  \n",
       "1448         1340           1  \n",
       "1449         1640           2  \n",
       "\n",
       "[10550 rows x 6 columns]"
      ]
     },
     "execution_count": 7,
     "metadata": {},
     "output_type": "execute_result"
    }
   ],
   "source": [
    "def concatenate_datasets():\n",
    "    return  pd.concat(all_datasets)\n"
   ]
  },
  {
   "cell_type": "code",
   "execution_count": 9,
   "metadata": {},
   "outputs": [
    {
     "name": "stderr",
     "output_type": "stream",
     "text": [
      "/home/john_kelly_tamargo/NDA/NDACW2/taskB/helpers/location_converter.py:18: FutureWarning: This function is deprecated. See: https://pyproj4.github.io/pyproj/stable/gotchas.html#upgrading-to-pyproj-2-from-pyproj-1\n",
      "  return transform(v36, v84, vlon36, vlat36)\n"
     ]
    }
   ],
   "source": [
    "concat_data = concatenate_datasets()\n",
    "\n",
    "longitudes = []\n",
    "latitudes = []\n",
    "\n",
    "for _, row in concat_data.iterrows():\n",
    "    long, lat = ENtoLL84(row['Grid Ref: Easting'], row['Grid Ref: Northing'])\n",
    "    longitudes.append(long)\n",
    "    latitudes.append(lat)\n",
    "\n",
    "concat_data['latitude'] = latitudes\n",
    "concat_data['longitude'] = longitudes\n",
    "\n",
    "concat_data.to_csv('test.csv')"
   ]
  },
  {
   "cell_type": "code",
   "execution_count": 10,
   "metadata": {},
   "outputs": [
    {
     "name": "stderr",
     "output_type": "stream",
     "text": [
      "/home/john_kelly_tamargo/NDA/NDACW2/taskB/helpers/location_converter.py:18: FutureWarning: This function is deprecated. See: https://pyproj4.github.io/pyproj/stable/gotchas.html#upgrading-to-pyproj-2-from-pyproj-1\n",
      "  return transform(v36, v84, vlon36, vlat36)\n"
     ]
    }
   ],
   "source": [
    "concat_data[['longitude', 'latitude']] = concat_data.apply(lambda row: pd.Series(ENtoLL84(row['Grid Ref: Easting'], row['Grid Ref: Northing'])), axis=1)\n",
    "concat_data.to_csv('test.csv')"
   ]
  }
 ],
 "metadata": {
  "kernelspec": {
   "display_name": "nda",
   "language": "python",
   "name": "python3"
  },
  "language_info": {
   "codemirror_mode": {
    "name": "ipython",
    "version": 3
   },
   "file_extension": ".py",
   "mimetype": "text/x-python",
   "name": "python",
   "nbconvert_exporter": "python",
   "pygments_lexer": "ipython3",
   "version": "3.12.1"
  }
 },
 "nbformat": 4,
 "nbformat_minor": 2
}
