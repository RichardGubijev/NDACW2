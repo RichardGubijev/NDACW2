{
 "cells": [
  {
   "cell_type": "markdown",
   "source": [
    "# Task C - Voronoi\n",
    "## Divide city into N=10 cells\n",
    "\n",
    "\n",
    "# Description\n",
    "\n",
    "1. Select the initial set of 10 cell seed points. For this, you can use several criteria, such as being far away from frequent accident roads, being close to public transport, being evenly spread, etc. (explain your choice in the report).\n",
    "2. Visualise the cells yield by your selection of seed points in a Voronoi diagram. What kind of Voronoi diagram (edge planar, node network, or edge points network) is most useful for this problem, and why?\n",
    "3. Find 2 or 3 cells for which you can find at least one path (or more, if possible) that is (a) exactly 42 Km long, and (b) finishes at the same point where it starts. Visualise both the cells and the found paths.\n",
    "4. Try to extend the previous step to all cells. Can you find at least one such a path for every cell?\n",
    "5. If for steps 3-4 there were cells with no such path, what different options could you consider to increase the number of cells that include such paths? (Hint: think about the number and location of seed points; the size of the area under consideration; etc.) Choose one of such options, rep\n",
    "\n",
    "## TODO\n",
    "- Fix seeder points -> evenly spread\n",
    "- what voronoi diagram??  edge planar, node network, or edge points network\n",
    "- Find a path in each cell of 42 km\n",
    "- 42km path in a circle"
   ],
   "metadata": {
    "collapsed": false
   },
   "id": "a8c60cdec12eb14d"
  },
  {
   "cell_type": "code",
   "outputs": [],
   "source": [
    "import networkx as nx\n",
    "import osmnx as ox\n",
    "import random as rnd\n",
    "import matplotlib.pyplot as plt\n",
    "from taskC.voronoi_tutorial_helpers import nodes_nearest_seed, get_seed_color, map_node_color_from_seed, map_edge_color_from_node\n",
    "# from taskC.seeder import get_seeds_kMeans\n",
    "import numpy as np\n",
    "import folium\n",
    "import geopandas as gpd\n",
    "from shapely.geometry import Point\n",
    "from sklearn.cluster import KMeans\n",
    "import pickle\n"
   ],
   "metadata": {
    "collapsed": false,
    "ExecuteTime": {
     "end_time": "2024-04-10T14:26:42.782021330Z",
     "start_time": "2024-04-10T14:26:41.428153656Z"
    }
   },
   "id": "394bf5228c91c768",
   "execution_count": 1
  },
  {
   "cell_type": "code",
   "outputs": [],
   "source": [
    "N_SEEDS = 10\n",
    "# query_place_graph = ox.graph_from_place('Leeds, United Kingdom', network_type='all')\n",
    "\n",
    "# with open('my_graph.pickle', 'wb') as f:\n",
    "#     pickle.dump(query_place_graph, f)\n",
    "\n",
    "# Loading\n",
    "with open('my_graph.pickle', 'rb') as f:\n",
    "    query_place_graph = pickle.load(f)"
   ],
   "metadata": {
    "collapsed": false,
    "ExecuteTime": {
     "end_time": "2024-04-10T14:26:44.343123731Z",
     "start_time": "2024-04-10T14:26:42.783480469Z"
    }
   },
   "id": "41b5bc70fb934e4d",
   "execution_count": 2
  },
  {
   "cell_type": "markdown",
   "source": [
    "What type of Voronoi diagram "
   ],
   "metadata": {
    "collapsed": false
   },
   "id": "ad621845a9e3eb00"
  },
  {
   "cell_type": "code",
   "outputs": [],
   "source": [
    "# nx.check_planarity"
   ],
   "metadata": {
    "collapsed": false
   },
   "id": "d4623fc3609b2714"
  },
  {
   "cell_type": "code",
   "outputs": [],
   "source": [
    "def get_seeds_kMeans(graph, num_seeds: int):\n",
    "    # Extract node coordinates\n",
    "    coords = [(node, data['x'], data['y']) for node, data in graph.nodes(data=True)]\n",
    "    gdf_nodes = gpd.GeoDataFrame(coords, columns=['node_id', 'x', 'y'])\n",
    "\n",
    "    # Apply K-means clustering\n",
    "    kmeans = KMeans(n_clusters=num_seeds)\n",
    "    kmeans.fit(gdf_nodes[['x', 'y']])\n",
    "    print(type(kmeans.cluster_centers_[0]))\n",
    "\n",
    "    # Extract cluster centroids as seeds\n",
    "    unaligned_seeds = [Point(x, y) for x, y in kmeans.cluster_centers_]\n",
    "    return unaligned_seeds\n",
    "\n",
    "def get_nearest_edge(G, point):\n",
    "    # Get all edges in the graph\n",
    "    gdf = ox.graph_to_gdfs(G, nodes=False, fill_edge_geometry=True)\n",
    "    graph_edges = gdf[\"geometry\"].values.tolist()\n",
    "\n",
    "    # Compute the Euclidean distance from the coordinates to each edge\n",
    "    edges_with_distances = [\n",
    "        (graph_edge, Point(point).distance(graph_edge))\n",
    "        for graph_edge in graph_edges\n",
    "    ]\n",
    "\n",
    "    # Sort edges based on distance\n",
    "    edges_with_distances.sort(key=lambda x: x[1])\n",
    "\n",
    "    # Return the closest edge (geometry)\n",
    "    return edges_with_distances[0]\n",
    "\n",
    "N_SEEDS = 10\n",
    "unaligned_seeds = get_seeds_kMeans(query_place_graph, N_SEEDS)\n",
    "# seeds = [get_nearest_edge(query_place_graph, seed) for seed in unaligned_seeds]\n",
    "# seeds"
   ],
   "metadata": {
    "collapsed": false
   },
   "id": "18e623dc703ef319",
   "execution_count": null
  },
  {
   "cell_type": "code",
   "outputs": [],
   "source": [
    "def get_seeds_kMeans(graph, num_seeds: int):\n",
    "    # 2. Extract node coordinates\n",
    "    coords = [(node, data['x'], data['y']) for node, data in graph.nodes(data=True)]\n",
    "    gdf_nodes = gpd.GeoDataFrame(coords, columns=['node_id', 'x', 'y'])\n",
    "\n",
    "    # 3. Apply K-means clustering\n",
    "    kmeans = KMeans(n_clusters=num_seeds)\n",
    "    kmeans.fit(gdf_nodes[['x', 'y']])\n",
    "\n",
    "    # 4. Extract cluster centroids as seeds\n",
    "    unaligned_seeds = [Point(x, y) for x, y in kmeans.cluster_centers_]\n",
    "    return unaligned_seeds\n",
    "\n",
    "def get_nearest_edge(G, point):\n",
    "    # Get all edges in the graph\n",
    "    gdf = ox.graph_to_gdfs(G, nodes=False, fill_edge_geometry=True)\n",
    "    graph_edges = gdf[\"geometry\"].values.tolist()\n",
    "\n",
    "    # Compute the Euclidean distance from the coordinates to each edge\n",
    "    edges_with_distances = [\n",
    "        (graph_edge, Point(tuple(reversed(point))).distance(graph_edge))\n",
    "        for graph_edge in graph_edges\n",
    "    ]\n",
    "\n",
    "    # Sort edges based on distance\n",
    "    edges_with_distances.sort(key=lambda x: x[1])\n",
    "\n",
    "    # Return the closest edge (geometry)\n",
    "    return edges_with_distances[0]\n"
   ],
   "metadata": {
    "collapsed": false
   },
   "id": "8278df2c257cf35e",
   "execution_count": null
  },
  {
   "cell_type": "code",
   "outputs": [],
   "source": [
    "unaligned_seeds = get_seeds_kMeans(query_place_graph, N_SEEDS)\n",
    "unaligned_seeds\n",
    "# print(unaligned_seeds)\n",
    "# print(type(unaligned_seeds[0]))\n",
    "# \n",
    "# seeds = [get_nearest_edge(query_place_graph, seed) for seed in unaligned_seeds]\n",
    "# seeds"
   ],
   "metadata": {
    "collapsed": false
   },
   "id": "26800abdf7441e6",
   "execution_count": null
  },
  {
   "cell_type": "code",
   "outputs": [],
   "source": [
    "all_nodes = list(query_place_graph.nodes)\n",
    "\n",
    "# TODO: choose seeds carefully, with respect to idk yet \n",
    "seeds = rnd.choices(all_nodes, k=10)\n",
    "cells = nx.voronoi_cells(query_place_graph, seeds, weight='length')\n",
    "cells"
   ],
   "metadata": {
    "collapsed": false
   },
   "id": "f274a13e7a1e90cf",
   "execution_count": null
  },
  {
   "cell_type": "code",
   "outputs": [],
   "source": [
    "black_color = (0.0, 0.0, 0.0, 1.0)\n",
    "\n",
    "node_seed_dict = nodes_nearest_seed(query_place_graph, seeds, cells)\n",
    "seed_colors = get_seed_color(seeds, black_color)\n",
    "node_color_dict = map_node_color_from_seed(query_place_graph, node_seed_dict, seed_colors)\n",
    "edge_colors = map_edge_color_from_node(query_place_graph, node_seed_dict, node_color_dict, black_color)"
   ],
   "metadata": {
    "collapsed": false
   },
   "id": "c24b273bc23ae36c",
   "execution_count": null
  },
  {
   "cell_type": "code",
   "outputs": [],
   "source": [
    "node_colors = ['r' if node in seeds else 'w' for node in all_nodes]\n",
    "ox.plot.plot_graph(query_place_graph, edge_color=edge_colors, node_color=node_colors, bgcolor ='k', save=True, filepath='nvd.png', node_size=1, figsize=(15, 15))"
   ],
   "metadata": {
    "collapsed": false
   },
   "id": "18cab700973fe7b5",
   "execution_count": null
  },
  {
   "cell_type": "markdown",
   "source": [],
   "metadata": {
    "collapsed": false
   },
   "id": "b615892f8285befd"
  },
  {
   "cell_type": "markdown",
   "source": [
    "- Find a path in each cell of 42 km\n",
    "- 42km path in a circle"
   ],
   "metadata": {
    "collapsed": false
   },
   "id": "eabc1b58287dd888"
  },
  {
   "cell_type": "code",
   "outputs": [],
   "source": [
    "all_nodes = list(query_place_graph.nodes)\n",
    "\n",
    "# TODO: choose seeds carefully, with respect to idk yet \n",
    "seeds = rnd.choices(all_nodes, k=10)\n",
    "cells = nx.voronoi_cells(query_place_graph, seeds, weight='length')"
   ],
   "metadata": {
    "collapsed": false,
    "ExecuteTime": {
     "end_time": "2024-04-10T14:27:11.132044063Z",
     "start_time": "2024-04-10T14:27:09.987272911Z"
    }
   },
   "id": "d9ce8c16fc4f67d5",
   "execution_count": 3
  },
  {
   "cell_type": "code",
   "outputs": [
    {
     "ename": "TypeError",
     "evalue": "'NoneType' object is not subscriptable",
     "output_type": "error",
     "traceback": [
      "\u001B[0;31m---------------------------------------------------------------------------\u001B[0m",
      "\u001B[0;31mTypeError\u001B[0m                                 Traceback (most recent call last)",
      "Cell \u001B[0;32mIn[5], line 8\u001B[0m\n\u001B[1;32m      5\u001B[0m cell \u001B[38;5;241m=\u001B[39m cells[seeds[\u001B[38;5;241m1\u001B[39m]]\n\u001B[1;32m      7\u001B[0m custom_dfs \u001B[38;5;241m=\u001B[39m CustomDFS(query_place_graph, cell)\n\u001B[0;32m----> 8\u001B[0m \u001B[43mcustom_dfs\u001B[49m\u001B[38;5;241;43m.\u001B[39;49m\u001B[43mdfs\u001B[49m\u001B[43m(\u001B[49m\u001B[43m)\u001B[49m\n",
      "File \u001B[0;32m~/Desktop/nda_local/NDACW2/taskC/distance_metrices.py:69\u001B[0m, in \u001B[0;36mCustomDFS.dfs\u001B[0;34m(self)\u001B[0m\n\u001B[1;32m     67\u001B[0m \u001B[38;5;28;01mdef\u001B[39;00m \u001B[38;5;21mdfs\u001B[39m(\u001B[38;5;28mself\u001B[39m):\n\u001B[1;32m     68\u001B[0m     \u001B[38;5;28;01mfor\u001B[39;00m node \u001B[38;5;129;01min\u001B[39;00m \u001B[38;5;28mself\u001B[39m\u001B[38;5;241m.\u001B[39mnodes:\n\u001B[0;32m---> 69\u001B[0m         \u001B[38;5;28;43mself\u001B[39;49m\u001B[38;5;241;43m.\u001B[39;49m\u001B[43m_dfs_single\u001B[49m\u001B[43m(\u001B[49m\u001B[43mnode\u001B[49m\u001B[43m,\u001B[49m\u001B[43m \u001B[49m\u001B[43m[\u001B[49m\u001B[43mnode\u001B[49m\u001B[43m]\u001B[49m\u001B[43m,\u001B[49m\u001B[43m \u001B[49m\u001B[38;5;241;43m0\u001B[39;49m\u001B[43m,\u001B[49m\u001B[43m \u001B[49m\u001B[43mnode\u001B[49m\u001B[43m,\u001B[49m\u001B[43m \u001B[49m\u001B[38;5;28;43mset\u001B[39;49m\u001B[43m(\u001B[49m\u001B[43m)\u001B[49m\u001B[43m)\u001B[49m\n\u001B[1;32m     70\u001B[0m     \u001B[38;5;28;01mreturn\u001B[39;00m \u001B[38;5;28mself\u001B[39m\u001B[38;5;241m.\u001B[39mtarget_paths, \u001B[38;5;28mself\u001B[39m\u001B[38;5;241m.\u001B[39mcircular_paths\n",
      "File \u001B[0;32m~/Desktop/nda_local/NDACW2/taskC/distance_metrices.py:61\u001B[0m, in \u001B[0;36mCustomDFS._dfs_single\u001B[0;34m(self, node, current_path, current_distance, start_node, visited)\u001B[0m\n\u001B[1;32m     59\u001B[0m current_path\u001B[38;5;241m.\u001B[39mappend(neighbor)\n\u001B[1;32m     60\u001B[0m current_distance \u001B[38;5;241m+\u001B[39m\u001B[38;5;241m=\u001B[39m distance\n\u001B[0;32m---> 61\u001B[0m \u001B[38;5;28;43mself\u001B[39;49m\u001B[38;5;241;43m.\u001B[39;49m\u001B[43m_dfs_single\u001B[49m\u001B[43m(\u001B[49m\u001B[43mneighbor\u001B[49m\u001B[43m,\u001B[49m\u001B[43m \u001B[49m\u001B[43mcurrent_path\u001B[49m\u001B[43m,\u001B[49m\u001B[43m \u001B[49m\u001B[43mcurrent_distance\u001B[49m\u001B[43m,\u001B[49m\u001B[43m \u001B[49m\u001B[43mstart_node\u001B[49m\u001B[43m,\u001B[49m\u001B[43m \u001B[49m\u001B[43mvisited\u001B[49m\u001B[43m)\u001B[49m\n\u001B[1;32m     62\u001B[0m current_path\u001B[38;5;241m.\u001B[39mpop()\n\u001B[1;32m     63\u001B[0m current_distance \u001B[38;5;241m-\u001B[39m\u001B[38;5;241m=\u001B[39m distance\n",
      "File \u001B[0;32m~/Desktop/nda_local/NDACW2/taskC/distance_metrices.py:61\u001B[0m, in \u001B[0;36mCustomDFS._dfs_single\u001B[0;34m(self, node, current_path, current_distance, start_node, visited)\u001B[0m\n\u001B[1;32m     59\u001B[0m current_path\u001B[38;5;241m.\u001B[39mappend(neighbor)\n\u001B[1;32m     60\u001B[0m current_distance \u001B[38;5;241m+\u001B[39m\u001B[38;5;241m=\u001B[39m distance\n\u001B[0;32m---> 61\u001B[0m \u001B[38;5;28;43mself\u001B[39;49m\u001B[38;5;241;43m.\u001B[39;49m\u001B[43m_dfs_single\u001B[49m\u001B[43m(\u001B[49m\u001B[43mneighbor\u001B[49m\u001B[43m,\u001B[49m\u001B[43m \u001B[49m\u001B[43mcurrent_path\u001B[49m\u001B[43m,\u001B[49m\u001B[43m \u001B[49m\u001B[43mcurrent_distance\u001B[49m\u001B[43m,\u001B[49m\u001B[43m \u001B[49m\u001B[43mstart_node\u001B[49m\u001B[43m,\u001B[49m\u001B[43m \u001B[49m\u001B[43mvisited\u001B[49m\u001B[43m)\u001B[49m\n\u001B[1;32m     62\u001B[0m current_path\u001B[38;5;241m.\u001B[39mpop()\n\u001B[1;32m     63\u001B[0m current_distance \u001B[38;5;241m-\u001B[39m\u001B[38;5;241m=\u001B[39m distance\n",
      "    \u001B[0;31m[... skipping similar frames: CustomDFS._dfs_single at line 61 (8 times)]\u001B[0m\n",
      "File \u001B[0;32m~/Desktop/nda_local/NDACW2/taskC/distance_metrices.py:61\u001B[0m, in \u001B[0;36mCustomDFS._dfs_single\u001B[0;34m(self, node, current_path, current_distance, start_node, visited)\u001B[0m\n\u001B[1;32m     59\u001B[0m current_path\u001B[38;5;241m.\u001B[39mappend(neighbor)\n\u001B[1;32m     60\u001B[0m current_distance \u001B[38;5;241m+\u001B[39m\u001B[38;5;241m=\u001B[39m distance\n\u001B[0;32m---> 61\u001B[0m \u001B[38;5;28;43mself\u001B[39;49m\u001B[38;5;241;43m.\u001B[39;49m\u001B[43m_dfs_single\u001B[49m\u001B[43m(\u001B[49m\u001B[43mneighbor\u001B[49m\u001B[43m,\u001B[49m\u001B[43m \u001B[49m\u001B[43mcurrent_path\u001B[49m\u001B[43m,\u001B[49m\u001B[43m \u001B[49m\u001B[43mcurrent_distance\u001B[49m\u001B[43m,\u001B[49m\u001B[43m \u001B[49m\u001B[43mstart_node\u001B[49m\u001B[43m,\u001B[49m\u001B[43m \u001B[49m\u001B[43mvisited\u001B[49m\u001B[43m)\u001B[49m\n\u001B[1;32m     62\u001B[0m current_path\u001B[38;5;241m.\u001B[39mpop()\n\u001B[1;32m     63\u001B[0m current_distance \u001B[38;5;241m-\u001B[39m\u001B[38;5;241m=\u001B[39m distance\n",
      "File \u001B[0;32m~/Desktop/nda_local/NDACW2/taskC/distance_metrices.py:54\u001B[0m, in \u001B[0;36mCustomDFS._dfs_single\u001B[0;34m(self, node, current_path, current_distance, start_node, visited)\u001B[0m\n\u001B[1;32m     51\u001B[0m \u001B[38;5;28;01mif\u001B[39;00m neighbor \u001B[38;5;129;01min\u001B[39;00m visited:\n\u001B[1;32m     52\u001B[0m     \u001B[38;5;28;01mcontinue\u001B[39;00m\n\u001B[0;32m---> 54\u001B[0m distance \u001B[38;5;241m=\u001B[39m \u001B[38;5;28;43mself\u001B[39;49m\u001B[38;5;241;43m.\u001B[39;49m\u001B[43mgraph\u001B[49m\u001B[38;5;241;43m.\u001B[39;49m\u001B[43mget_edge_data\u001B[49m\u001B[43m(\u001B[49m\u001B[43mneighbor\u001B[49m\u001B[43m,\u001B[49m\u001B[43m \u001B[49m\u001B[43mnode\u001B[49m\u001B[43m)\u001B[49m\u001B[43m[\u001B[49m\u001B[38;5;241;43m0\u001B[39;49m\u001B[43m]\u001B[49m[\u001B[38;5;124m'\u001B[39m\u001B[38;5;124mlength\u001B[39m\u001B[38;5;124m'\u001B[39m]\n\u001B[1;32m     55\u001B[0m \u001B[38;5;28;01mif\u001B[39;00m start_node \u001B[38;5;241m==\u001B[39m neighbor \u001B[38;5;129;01mand\u001B[39;00m \u001B[38;5;28mint\u001B[39m(distance) \u001B[38;5;241m==\u001B[39m \u001B[38;5;28mself\u001B[39m\u001B[38;5;241m.\u001B[39mtarget_distance:\n\u001B[1;32m     56\u001B[0m     \u001B[38;5;28mself\u001B[39m\u001B[38;5;241m.\u001B[39mcircular_paths\u001B[38;5;241m.\u001B[39mappend(start_node)\n",
      "\u001B[0;31mTypeError\u001B[0m: 'NoneType' object is not subscriptable"
     ]
    }
   ],
   "source": [
    "from taskC.distance_metrices import CustomDFS\n",
    "import multiprocessing as mp\n",
    "\n",
    "\n",
    "cell = cells[seeds[1]]\n",
    "\n",
    "custom_dfs = CustomDFS(query_place_graph, cell)\n",
    "custom_dfs.dfs()"
   ],
   "metadata": {
    "collapsed": false,
    "ExecuteTime": {
     "end_time": "2024-04-10T14:27:21.199594312Z",
     "start_time": "2024-04-10T14:27:20.949752419Z"
    }
   },
   "id": "6c33e72dd7da1b04",
   "execution_count": 5
  },
  {
   "cell_type": "code",
   "outputs": [
    {
     "name": "stdout",
     "output_type": "stream",
     "text": [
      "iteration: 0\n",
      " 8414\n",
      "iteration: 1\n",
      " 955\n",
      "iteration: 2\n",
      " 4260\n",
      "iteration: 3\n",
      " 10971\n",
      "iteration: 4\n",
      " 7090\n",
      "iteration: 5\n",
      " 13232\n",
      "iteration: 6\n",
      " 24412\n",
      "iteration: 7\n",
      " 5905\n",
      "iteration: 8\n",
      " 4830\n",
      "iteration: 9\n",
      " 18485\n"
     ]
    }
   ],
   "source": [
    "for i in range(10):\n",
    "    print(f\"iteration: {i}\\n\", len(cells[seeds[i]]))"
   ],
   "metadata": {
    "collapsed": false,
    "ExecuteTime": {
     "end_time": "2024-04-10T14:27:12.232665668Z",
     "start_time": "2024-04-10T14:27:12.188167531Z"
    }
   },
   "id": "749ac08eee989e34",
   "execution_count": 4
  }
 ],
 "metadata": {
  "kernelspec": {
   "display_name": "Python 3",
   "language": "python",
   "name": "python3"
  },
  "language_info": {
   "codemirror_mode": {
    "name": "ipython",
    "version": 2
   },
   "file_extension": ".py",
   "mimetype": "text/x-python",
   "name": "python",
   "nbconvert_exporter": "python",
   "pygments_lexer": "ipython2",
   "version": "2.7.6"
  }
 },
 "nbformat": 4,
 "nbformat_minor": 5
}
