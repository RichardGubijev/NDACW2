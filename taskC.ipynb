{
 "cells": [
  {
   "cell_type": "markdown",
   "source": [
    "# Task C - Voronoi\n",
    "## Divide city into N=10 cells\n",
    "\n",
    "\n",
    "# Description\n",
    "\n",
    "1. Select the initial set of 10 cell seed points. For this, you can use several criteria, such as being far away from frequent accident roads, being close to public transport, being evenly spread, etc. (explain your choice in the report).\n",
    "2. Visualise the cells yield by your selection of seed points in a Voronoi diagram. What kind of Voronoi diagram (edge planar, node network, or edge points network) is most useful for this problem, and why?\n",
    "3. Find 2 or 3 cells for which you can find at least one path (or more, if possible) that is (a) exactly 42 Km long, and (b) finishes at the same point where it starts. Visualise both the cells and the found paths.\n",
    "4. Try to extend the previous step to all cells. Can you find at least one such a path for every cell?\n",
    "5. If for steps 3-4 there were cells with no such path, what different options could you consider to increase the number of cells that include such paths? (Hint: think about the number and location of seed points; the size of the area under consideration; etc.) Choose one of such options, rep\n",
    "\n",
    "## TODO\n",
    "- Fix seeder points -> evenly spread OK\n",
    "- what voronoi diagram??  edge planar, node network, or edge points network\n",
    "- Find a path with end=start in each cell of 42 km"
   ],
   "metadata": {
    "collapsed": false
   },
   "id": "a8c60cdec12eb14d"
  },
  {
   "cell_type": "markdown",
   "source": [
    "Importing all needed imports"
   ],
   "metadata": {
    "collapsed": false
   },
   "id": "ce776aa97977e88c"
  },
  {
   "cell_type": "code",
   "outputs": [],
   "source": [
    "import networkx as nx\n",
    "import osmnx as ox\n",
    "import random as rnd\n",
    "from taskC.voronoi_tutorial_helpers import nodes_nearest_seed, get_seed_color, map_node_color_from_seed, map_edge_color_from_node\n",
    "from taskC.seeder import get_seeds_with_kmeans\n",
    "import pickle\n",
    "from taskC.distance_metrices import FindMarathonDistance"
   ],
   "metadata": {
    "collapsed": false
   },
   "id": "394bf5228c91c768",
   "execution_count": null
  },
  {
   "cell_type": "markdown",
   "source": [
    "Loading the network and initialise global constant variables "
   ],
   "metadata": {
    "collapsed": false
   },
   "id": "8875de4d9f335a0e"
  },
  {
   "cell_type": "code",
   "outputs": [],
   "source": [
    "N_SEEDS = 10\n",
    "# walk -> ~94k\n",
    "# drive -> ~31k\n",
    "# all -> ~98k\n",
    "# bike -> ~71k\n",
    "# drive_service -> ~52k\n",
    "# all_private -> 104k\n",
    "# 'Leeds, United Kingdom'\n",
    "# query_place_graph = ox.graph_from_place('Trondheim, Norway', network_type='all')\n",
    "# query_place_graph = ox.graph_from_place('Leeds, United Kingdom', network_type='drive')\n",
    "\n",
    "\n",
    "# with open('trondheim.pickle', 'wb') as f:\n",
    "#     pickle.dump(query_place_graph, f)\n",
    "# \n",
    "# # Loading\n",
    "# with open('my_graph.pickle', 'rb') as f:\n",
    "#     query_place_graph = pickle.load(f)\n",
    "\n",
    "    \n",
    "with open('leeds_drive.pickle', 'rb') as f:\n",
    "    query_place_graph = pickle.load(f)"
   ],
   "metadata": {
    "collapsed": false
   },
   "id": "41b5bc70fb934e4d",
   "execution_count": null
  },
  {
   "cell_type": "markdown",
   "source": [
    "What type of Voronoi diagram "
   ],
   "metadata": {
    "collapsed": false
   },
   "id": "ad621845a9e3eb00"
  },
  {
   "cell_type": "markdown",
   "source": [
    "## Question 1 - Seed points with K-means for even distribution\n",
    "Here sklearn library KMeans is used to extract evenly distributed nodes together with the nearest_node method from the osmnx to find the closest node from the (x,y) coordinates coming from k-means."
   ],
   "metadata": {
    "collapsed": false
   },
   "id": "db7467de719e1204"
  },
  {
   "cell_type": "code",
   "outputs": [],
   "source": [
    "all_nodes = list(query_place_graph.nodes)\n",
    "seeds = get_seeds_with_kmeans(query_place_graph, N_SEEDS)\n",
    "seeds"
   ],
   "metadata": {
    "collapsed": false
   },
   "id": "d4623fc3609b2714",
   "execution_count": null
  },
  {
   "cell_type": "markdown",
   "source": [
    "## Question 2 - Voronoi diagram\n",
    "### Part 1 Voronoi cell generation and visualisation\n",
    "The visualisation and the cell generations are from the week_6_sol.ipynb."
   ],
   "metadata": {
    "collapsed": false
   },
   "id": "568854d3c99bb6ec"
  },
  {
   "cell_type": "code",
   "outputs": [],
   "source": [
    "cells = nx.voronoi_cells(query_place_graph, seeds, weight='length')"
   ],
   "metadata": {
    "collapsed": false
   },
   "id": "f274a13e7a1e90cf",
   "execution_count": null
  },
  {
   "cell_type": "code",
   "outputs": [],
   "source": [
    "black_color = (0.0, 0.0, 0.0, 1.0)\n",
    "node_seed_dict = nodes_nearest_seed(query_place_graph, seeds, cells)\n",
    "seed_colors = get_seed_color(seeds, black_color)\n",
    "node_color_dict = map_node_color_from_seed(query_place_graph, node_seed_dict, seed_colors)\n",
    "edge_colors = map_edge_color_from_node(query_place_graph, node_seed_dict, node_color_dict, black_color)"
   ],
   "metadata": {
    "collapsed": false
   },
   "id": "c24b273bc23ae36c",
   "execution_count": null
  },
  {
   "cell_type": "code",
   "outputs": [],
   "source": [
    "node_colors = ['r' if node in seeds else 'w' for node in all_nodes]\n",
    "ox.plot.plot_graph(query_place_graph, edge_color=edge_colors, node_color=node_colors, bgcolor ='k', save=True, filepath='nvd.png', node_size=1, figsize=(15, 15))"
   ],
   "metadata": {
    "collapsed": false
   },
   "id": "18cab700973fe7b5",
   "execution_count": null
  },
  {
   "cell_type": "markdown",
   "source": [
    " ### Part 2 - Voronoi diagram type\n",
    " What kind of Voronoi diagram (edge planar, node network, or edge points network) is most useful for this problem, and why?\n",
    " \n",
    "edge planar -> can be drawn without its edges crossing\n",
    "node network -> \n",
    "edge points network -> "
   ],
   "metadata": {
    "collapsed": false
   },
   "id": "ff33e7066b191795"
  },
  {
   "cell_type": "code",
   "outputs": [],
   "source": [],
   "metadata": {
    "collapsed": false
   },
   "id": "922a4a2f33dfafe8",
   "execution_count": null
  },
  {
   "cell_type": "markdown",
   "source": [
    "- Find a path in each cell of 42 km\n",
    "- 42km path in a circle"
   ],
   "metadata": {
    "collapsed": false
   },
   "id": "eabc1b58287dd888"
  },
  {
   "cell_type": "code",
   "outputs": [],
   "source": [
    "all_nodes = list(query_place_graph.nodes)\n",
    "\n",
    "# TODO: choose seeds carefully, with respect to idk yet \n",
    "seeds = rnd.choices(all_nodes, k=10)\n",
    "cells = nx.voronoi_cells(query_place_graph, seeds, weight='length')"
   ],
   "metadata": {
    "collapsed": false
   },
   "id": "d9ce8c16fc4f67d5",
   "execution_count": null
  },
  {
   "cell_type": "code",
   "outputs": [],
   "source": [
    "from taskC.distance_metrices import CustomDFS\n",
    "import multiprocessing as mp\n",
    "\n",
    "\n",
    "cell = cells[seeds[1]]\n",
    "\n",
    "custom_dfs = CustomDFS(query_place_graph, cell)\n",
    "custom_dfs.dfs()"
   ],
   "metadata": {
    "collapsed": false
   },
   "id": "6c33e72dd7da1b04",
   "execution_count": null
  }
 ],
 "metadata": {
  "kernelspec": {
   "display_name": "Python 3",
   "language": "python",
   "name": "python3"
  },
  "language_info": {
   "codemirror_mode": {
    "name": "ipython",
    "version": 2
   },
   "file_extension": ".py",
   "mimetype": "text/x-python",
   "name": "python",
   "nbconvert_exporter": "python",
   "pygments_lexer": "ipython2",
   "version": "2.7.6"
  }
 },
 "nbformat": 4,
 "nbformat_minor": 5
}
