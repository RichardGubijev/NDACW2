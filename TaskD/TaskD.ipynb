{
 "cells": [
  {
   "cell_type": "markdown",
   "metadata": {},
   "source": [
    "# Start of Provernance Part of Task D\n",
    "Imports for Proverance and Pagerank"
   ]
  },
  {
   "cell_type": "code",
   "execution_count": null,
   "metadata": {},
   "outputs": [],
   "source": [
    "from prov.model import ProvDocument\n",
    "from prov.dot import prov_to_dot\n",
    "import random\n",
    "import networkx as nx\n",
    "import matplotlib.pyplot as plt\n",
    "import matplotlib.colors as colors\n",
    "from mpl_toolkits.axes_grid1 import make_axes_locatable\n",
    "from IPython.display import Image\n",
    "import os"
   ]
  },
  {
   "cell_type": "markdown",
   "metadata": {},
   "source": [
    "Setup provenance document and NetworkX graph"
   ]
  },
  {
   "cell_type": "code",
   "execution_count": null,
   "metadata": {},
   "outputs": [],
   "source": [
    "document = ProvDocument()\n",
    "document.add_namespace(\"Leeds\", \"Leeds\")\n",
    "document.add_namespace(\"Civ\", \"Civilian\")\n",
    "document.add_namespace(\"Pol\", \"Police\")\n",
    "police = document.agent(\"Pol:Police\")\n",
    "\n",
    "G = nx.DiGraph()"
   ]
  },
  {
   "cell_type": "markdown",
   "metadata": {},
   "source": [
    "Functions to create events in the provernanace netowrk and the assosciations between things"
   ]
  },
  {
   "cell_type": "code",
   "execution_count": null,
   "metadata": {},
   "outputs": [],
   "source": [
    "# Generate driver and their car and the association between the two.\n",
    "def createDriver(name):\n",
    "    driver = document.agent(\"Civ:person_\" + name)\n",
    "    car = document.entity(\"Civ:car_\" + name)\n",
    "    document.wasAttributedTo(car, driver)\n",
    "    G.add_edge(car, driver)\n",
    "    return (driver, car)\n",
    "\n",
    "# Generate a car crash report, including the activity, and the associations between all the entities, activites, and agents. \n",
    "def createCarCrash(driverOne, driverTwo, street):\n",
    "    car_crash_id = int(random.uniform(0,1 * 10)*1000)\n",
    "    activity = document.activity(f\"Civ:crash_car_{car_crash_id}\")\n",
    "    car_crash_report = document.entity(f\"Pol:car_crash_report_{car_crash_id}\" )\n",
    "    document.used(activity, driverOne[1])\n",
    "    G.add_edge(activity, driverOne[1])\n",
    "    document.used(activity, driverTwo[1])\n",
    "    G.add_edge(activity, driverTwo[1])\n",
    "    document.used(activity, street)\n",
    "    G.add_edge(activity, street)\n",
    "    document.wasAssociatedWith(activity, driverOne[0])\n",
    "    G.add_edge(activity, driverOne[0])\n",
    "    document.wasAssociatedWith(activity, driverTwo[0])\n",
    "    G.add_edge(activity, driverTwo[0])\n",
    "    document.wasGeneratedBy(car_crash_report, activity)\n",
    "    G.add_edge(car_crash_report, activity)\n",
    "    document.wasAttributedTo(car_crash_report, police)\n",
    "    G.add_edge(car_crash_report, police)\n",
    "    return car_crash_report"
   ]
  },
  {
   "cell_type": "code",
   "execution_count": null,
   "metadata": {},
   "outputs": [],
   "source": [
    "# Create the streets\n",
    "streets = []\n",
    "streets.append(document.entity(\"Leeds:Trent Street\"))\n",
    "streets.append(document.entity(\"Leeds:Thames Street\"))\n",
    "streets.append(document.entity(\"Leeds:Taf Street\"))\n",
    "# random_streets = random.choices(streets, [1,1,25,1], k=30)\n",
    "\n",
    "\n",
    "# Create The Cars\n",
    "driver_car_pairs = []\n",
    "for i in range(0,8):\n",
    "    driver_car_pairs.append(createDriver(str(i)))\n",
    "\n",
    "# Create The Car Crashes\n",
    "# for i in range(0,len(driver_car_pairs) - 1, 2):\n",
    "#     createCarCrash(driver_car_pairs[i], driver_car_pairs[i+1], random_streets[i])\n",
    "createCarCrash(driver_car_pairs[0], driver_car_pairs[1], streets[0])\n",
    "createCarCrash(driver_car_pairs[2], driver_car_pairs[3], streets[0])\n",
    "createCarCrash(driver_car_pairs[4], driver_car_pairs[5], streets[1])\n",
    "createCarCrash(driver_car_pairs[6], driver_car_pairs[7], streets[2])"
   ]
  },
  {
   "cell_type": "markdown",
   "metadata": {},
   "source": [
    "Visualize the prov docuement and the pagerank diagram"
   ]
  },
  {
   "cell_type": "code",
   "execution_count": null,
   "metadata": {},
   "outputs": [],
   "source": [
    "# Code from adapted from week 10 labs\n",
    "# https://github.kcl.ac.uk/k21190656/7CUSMNDA-2024/blob/main/notebooks/week_10.ipynb\n",
    "def plot_pagerank(graph, pagerank):\n",
    "    fig, ax = plt.subplots(1, 1, figsize=(8, 7))\n",
    "\n",
    "    node_color = list(pagerank.values())\n",
    "    # nx.draw(graph, with_labels=False, alpha=0.8, arrows=True, node_color=node_color, cmap=plt.cm.viridis) \n",
    "    nx.draw(graph, with_labels=True, alpha=0.8, arrows=True, node_color=node_color, cmap=plt.cm.viridis) \n",
    "\n",
    "    # adding color bar for pagerank importances\n",
    "    sm = plt.cm.ScalarMappable(cmap=plt.get_cmap('viridis'), norm=colors.Normalize(vmin=min(node_color), vmax=max(node_color)))\n",
    "    divider = make_axes_locatable(ax)\n",
    "    cax = divider.append_axes(\"right\", size=\"3%\", pad=0.05)\n",
    "    plt.colorbar(sm, cax=cax)\n",
    "\n",
    "for f in [\"leeds-prov.png\", \"leeds-pagerank.png\"]:\n",
    "    if os.path.isfile(f):\n",
    "        os.remove(f)\n",
    "\n",
    "dot = prov_to_dot(document)\n",
    "plot_pagerank(G, nx.pagerank(G, alpha= 0.95))\n",
    "plt.savefig(\"leeds-pagerank.png\")\n",
    "dot.write_png(\"leeds-prov.png\")\n",
    "Image(filename=\"leeds-prov.png\")\n"
   ]
  },
  {
   "cell_type": "markdown",
   "metadata": {},
   "source": [
    "# Start of Knowledge Graph Embeddings\n",
    "Imports for PyKeen"
   ]
  },
  {
   "cell_type": "code",
   "execution_count": null,
   "metadata": {},
   "outputs": [],
   "source": [
    "from pykeen.datasets import CoDExMedium\n",
    "from pykeen.pipeline import pipeline\n",
    "from pykeen.hpo import hpo_pipeline\n",
    "from pykeen.evaluation import RankBasedEvaluator\n",
    "from pykeen.sampling import BasicNegativeSampler\n",
    "from pykeen.models import CompGCN\n",
    "from optuna.samplers import GridSampler\n"
   ]
  },
  {
   "cell_type": "code",
   "execution_count": null,
   "metadata": {},
   "outputs": [],
   "source": [
    "def convert_nx_to_dataset(G):\n",
    "    #Take the two edges and the label attribute and turn them into triplets. Shouldn't be hard. \n",
    "    return None"
   ]
  },
  {
   "cell_type": "markdown",
   "metadata": {},
   "source": [
    "Import the CoDExMedium dataset for evaluation and convert the NetworkX graph to triples"
   ]
  },
  {
   "cell_type": "code",
   "execution_count": null,
   "metadata": {},
   "outputs": [],
   "source": [
    "validation  = CoDExMedium(create_inverse_triples=False)\n",
    "dataset = convert_nx_to_dataset(G) "
   ]
  },
  {
   "cell_type": "markdown",
   "metadata": {},
   "source": [
    "TransE"
   ]
  },
  {
   "cell_type": "code",
   "execution_count": null,
   "metadata": {},
   "outputs": [],
   "source": [
    "TransE_pipeline_result = pipeline(\n",
    "    dataset=dataset,\n",
    "    validation = validation,\n",
    "    model='TransE',\n",
    "    model_kwargs=dict(embedding_dim=50),\n",
    "    optimizer_kwargs=dict(lr=1.0e-2),\n",
    "    training_kwargs=dict(num_epochs=20, use_tqdm_batch=False),\n",
    "    evaluation_kwargs=dict(use_tqdm=True),\n",
    "    random_seed=1,\n",
    "    device='gpu',\n",
    "    training_loop='sLCWA',\n",
    "    negative_sampler=BasicNegativeSampler,\n",
    "    evaluator=RankBasedEvaluator\n",
    ")"
   ]
  },
  {
   "cell_type": "markdown",
   "metadata": {},
   "source": [
    "RotatE"
   ]
  },
  {
   "cell_type": "code",
   "execution_count": null,
   "metadata": {},
   "outputs": [],
   "source": [
    "RotatE_pipeline_result = pipeline(\n",
    "    dataset=dataset,\n",
    "    validation = validation,\n",
    "    model='RotatE',\n",
    "    model_kwargs=dict(embedding_dim=50),\n",
    "    optimizer_kwargs=dict(lr=1.0e-2),\n",
    "    training_kwargs=dict(num_epochs=128, use_tqdm_batch=False),\n",
    "    evaluation_kwargs=dict(use_tqdm=True),\n",
    "    random_seed=1,\n",
    "    device='gpu',\n",
    "    training_loop='sLCWA',\n",
    "    negative_sampler=BasicNegativeSampler,\n",
    "    evaluator = RankBasedEvaluator\n",
    ")"
   ]
  },
  {
   "cell_type": "markdown",
   "metadata": {},
   "source": [
    "GCN"
   ]
  },
  {
   "cell_type": "code",
   "execution_count": null,
   "metadata": {},
   "outputs": [],
   "source": [
    "GCN_pipeline_result = pipeline(\n",
    "    dataset=dataset,\n",
    "    validation = validation,\n",
    "    model=CompGCN,\n",
    "    model_kwargs=dict(embedding_dim=50),\n",
    "    optimizer_kwargs=dict(lr=1.0e-2),\n",
    "    training_kwargs=dict(num_epochs=128, use_tqdm_batch=False),\n",
    "    evaluation_kwargs=dict(use_tqdm=True),\n",
    "    random_seed=1,\n",
    "    device='gpu',\n",
    "    training_loop='sLCWA',\n",
    "    negative_sampler=BasicNegativeSampler,\n",
    "    evaluator = RankBasedEvaluator\n",
    ")"
   ]
  },
  {
   "cell_type": "markdown",
   "metadata": {},
   "source": [
    "Visualise TransE, RotatE, and GCN"
   ]
  },
  {
   "cell_type": "code",
   "execution_count": null,
   "metadata": {},
   "outputs": [],
   "source": [
    "for f in [\"leeds-TransE-embedding.png\", \"leeds-RotatE-embedding.png\", \"leeds-GCN-embedding.png\"]:\n",
    "    if os.path.isfile(f):\n",
    "        os.remove(f)"
   ]
  },
  {
   "cell_type": "code",
   "execution_count": null,
   "metadata": {},
   "outputs": [],
   "source": [
    "fig, ax = plt.subplots(figsize=(12, 5))\n",
    "TransE_pipeline_result.plot_er(plot_relations=False)\n",
    "plt.savefig(\"leeds-TransE-embedding.png\")"
   ]
  },
  {
   "cell_type": "code",
   "execution_count": null,
   "metadata": {},
   "outputs": [],
   "source": [
    "fig, ax = plt.subplots(figsize=(12, 5))\n",
    "RotatE_pipeline_result.plot_er(plot_relations=False)\n",
    "plt.savefig(\"leeds-RotatE-embedding.png\")"
   ]
  },
  {
   "cell_type": "code",
   "execution_count": null,
   "metadata": {},
   "outputs": [],
   "source": [
    "fig, ax = plt.subplots(figsize=(12, 5))\n",
    "GCN_pipeline_result.plot_er(plot_relations=False)\n",
    "plt.savefig(\"leeds-GCN-embedding.png\")"
   ]
  },
  {
   "cell_type": "markdown",
   "metadata": {},
   "source": [
    "Evalaluate TransE, RotatE, and GCN"
   ]
  },
  {
   "cell_type": "code",
   "execution_count": null,
   "metadata": {},
   "outputs": [],
   "source": [
    "TransE_Emrr = TransE_pipeline_result.get_metric('mrr')\n",
    "TransE_hits_at_10 = TransE_pipeline_result.get_metric('hits@k')\n",
    "\n",
    "RotatE_Emrr = RotatE_pipeline_result.get_metric('mrr')\n",
    "RotatE_hits_at_10 = RotatE_pipeline_result.get_metric('hits@k')\n",
    "\n",
    "GCN_Emrr = GCN_pipeline_result.get_metric('mrr')\n",
    "GCN_hits_at_10 = GCN_pipeline_result.get_metric('hits@k')\n",
    "\n",
    "print(f\"Mean Reciprocal Rank\\n\\t TransE: {TransE_Emrr} | RotatE: {RotatE_Emrr} | GCN: {GCN_Emrr}\")\n",
    "print(f\"Hits at 10k\\n\\t TransE: {TransE_hits_at_10} | RotatE: {RotatE_hits_at_10} | GCN: {GCN_hits_at_10}\")"
   ]
  },
  {
   "cell_type": "markdown",
   "metadata": {},
   "source": [
    "DELETE THIS CODE BEFORE SUBMITTING"
   ]
  },
  {
   "cell_type": "code",
   "execution_count": null,
   "metadata": {},
   "outputs": [],
   "source": [
    "model = ['TransE','RotatE', CompGCN]\n",
    "hpo_pipeline_result = hpo_pipeline(\n",
    "    dataset = dataset,\n",
    "    model= model[0],\n",
    "    device='gpu',\n",
    "    training_loop='sLCWA',\n",
    "    n_trials= 25,\n",
    "    optimizer_kwargs=dict(lr=1.0e-2),\n",
    "    training_kwargs=dict(num_epochs=20, use_tqdm_batch=False),\n",
    "    evaluation_kwargs=dict(use_tqdm=True),\n",
    "\n",
    "    negative_sampler=BasicNegativeSampler,\n",
    "    evaluator=RankBasedEvaluator\n",
    ")\n",
    "\n",
    "TransE_hpo_pipeline_result.save_to_directory(\"TransE.HPO\")\n",
    "\n"
   ]
  }
 ],
 "metadata": {
  "kernelspec": {
   "display_name": "nda",
   "language": "python",
   "name": "python3"
  },
  "language_info": {
   "codemirror_mode": {
    "name": "ipython",
    "version": 3
   },
   "file_extension": ".py",
   "mimetype": "text/x-python",
   "name": "python",
   "nbconvert_exporter": "python",
   "pygments_lexer": "ipython3",
   "version": "3.12.1"
  }
 },
 "nbformat": 4,
 "nbformat_minor": 2
}
